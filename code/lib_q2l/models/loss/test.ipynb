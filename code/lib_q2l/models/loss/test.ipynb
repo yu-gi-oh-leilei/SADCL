{
 "cells": [
  {
   "cell_type": "code",
   "execution_count": null,
   "metadata": {},
   "outputs": [],
   "source": [
    "import numpy as np\n",
    "import torch\n",
    "batch_size = 128\n",
    "views = 2\n",
    "classes = 80\n",
    "\n",
    "\n",
    "labels = np.load('/media/data2/maleilei/MLIC/Query2Labels_base/contrastiveloss/target.npy')\n",
    "vis_embed = np.load('/media/data2/maleilei/MLIC/Query2Labels_base/contrastiveloss/vis_embed.npy')\n",
    "prototype_embed = np.load('/media/data2/maleilei/MLIC/Query2Labels_base/contrastiveloss/prototype_embed.npy')\n",
    "    \n",
    "labels = torch.from_numpy(labels)\n",
    "vis_embed = torch.from_numpy(vis_embed)\n",
    "prototype_embed = torch.from_numpy(prototype_embed)\n",
    "\n",
    "features = torch.cat([vis_embed.unsqueeze(1), prototype_embed.unsqueeze(1)], dim=1)\n",
    "\n"
   ]
  },
  {
   "cell_type": "code",
   "execution_count": null,
   "metadata": {},
   "outputs": [],
   "source": [
    "%load_ext autoreload\n",
    "%autoreload 2\n",
    "import sys\n",
    "PATH = '/media/data2/maleilei/MLIC/Query2Labels_base/lib_attention/models/loss'\n",
    "sys.path.append(PATH)\n",
    "\n",
    "from multisupconloss import MultiSupConLoss\n",
    "\n",
    "criterion = MultiSupConLoss()\n",
    "loss = criterion(features, labels)\n",
    "print(loss)"
   ]
  }
 ],
 "metadata": {
  "kernelspec": {
   "display_name": "Python 3 (ipykernel)",
   "language": "python",
   "name": "python3"
  },
  "orig_nbformat": 4
 },
 "nbformat": 4,
 "nbformat_minor": 2
}
